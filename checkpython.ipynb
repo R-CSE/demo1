{
 "cells": [
  {
   "cell_type": "code",
   "execution_count": 15,
   "id": "fdd5b6cc-bc44-4710-a797-c659f27b179d",
   "metadata": {},
   "outputs": [
    {
     "ename": "IndentationError",
     "evalue": "expected an indented block (2777890688.py, line 21)",
     "output_type": "error",
     "traceback": [
      "\u001b[1;36m  Cell \u001b[1;32mIn[15], line 21\u001b[1;36m\u001b[0m\n\u001b[1;33m    print(\"invalid email id\")\u001b[0m\n\u001b[1;37m    ^\u001b[0m\n\u001b[1;31mIndentationError\u001b[0m\u001b[1;31m:\u001b[0m expected an indented block\n"
     ]
    }
   ],
   "source": [
    "import random\n",
    "import smtplib\n",
    "\n",
    "OTP = random.randint(100000,999999)\n",
    "server = smtplib.SMTP('smtp.gmail.com',587)\n",
    "server.starttls()\n",
    "name = input(\"enter your name:\")\n",
    "global receiver_email\n",
    "receiver_email = input(\"enter ur email id:\")\n",
    "def email_verification(receiver_email):\n",
    "    email_check1 = [\"gmail\",\"hotmail\",\"yahoo\",\"outlook\"]\n",
    "    email_check2 = [\".com\",\".in\",\".org\",\".edu\",\".co.in\"]\n",
    "    count = 0\n",
    "    for domain in email_check1:\n",
    "        if domain in receiver_email:\n",
    "            count+=1\n",
    "    for site in email_check2:\n",
    "        if site in receiver_email:\n",
    "            count+=1\n",
    "        if \"@\" not in receiver_email or count!=2:\n",
    "        print(\"invalid email id\")\n",
    "        new_receiver_email = input(\"enter correct email id:\")\n",
    "        email_verification(new_receiver_email)\n",
    "        return new_receiver_email\n",
    "    return receiver_email\n",
    "valid_receiver_email = email_verification(receiver_email)\n",
    "password = \"bput dbui gqxl fjpx\"\n",
    "server.login(\"rashikashaw444@gmail.com\",password)\n",
    "body = \"dear\"+name+\",\"+\"\\n\"+\"\\n\"+\"your OTP is \"+str(OTP)+\".\"\n",
    "subject = \"OTP verification using python\"\n",
    "message = f'subject:{subject}\\n\\n{body}'\n",
    "\n",
    "server.sendmail(\"rashikashaw444@gmail.com\",valid_receiver_email,message)\n",
    "def sending_otp(receiver_email):\n",
    "    new_otp = random.randint(100000,999999)\n",
    "\n",
    "    body = \"dear\"+name+\",\"+\"\\n\"+\"\\n\"+\"your OTP is \"+str(new_otp)+\".\"\n",
    "    subject = \"OTP verification using python\" \n",
    "    message = f'subject:{subject}\\n\\n{body}'\n",
    "    server.sendmail(\"rashikashaw444@gmail.com\",receiver_email,message)\n",
    "    print(\"OTP has been sent to\"+receiver_email)\n",
    "    received_OTP = int(input(\"enter OTP:\"))\n",
    "\n",
    "if received_OTP==new_otp:\n",
    "     print(\"OTP verified\")\n",
    "else:\n",
    "        print(\"invalid OTP\")\n",
    "        print(\"resending OTP.....\")\n",
    "        sending_otp(receiver_email)\n",
    "    \n",
    "print(\"OTP has been sent to \"+valid_receiver_email)\n",
    "received_OTP = int(input(\"enter OTP:\"))\n",
    "if received_OTP==OTP:\n",
    "    print(\"OTP verified\")\n",
    "else:\n",
    "    print(\"invalid OTP\")\n",
    "    answer = input(\"enter yes to resend OTP on same email and no to enter a new email id:\")\n",
    "    YES = ['YES','yes','Yes']\n",
    "    NO = ['NO','no','No']\n",
    "    if answer in YES:\n",
    "        sending_otp(valid_receiver_email)\n",
    "    elif answer in NO:\n",
    "        new_receiver_email = input(\"enter new email id:\")\n",
    "        email_verification(new_receiver_email)\n",
    "        sending_otp(new_receiver_email)\n",
    "    else:\n",
    "        print(\"invalid input\")\n",
    "\n",
    "server.quit()"
   ]
  },
  {
   "cell_type": "code",
   "execution_count": null,
   "id": "5dbbbde8-9595-4112-8710-59c2bb55f4b5",
   "metadata": {},
   "outputs": [],
   "source": []
  },
  {
   "cell_type": "code",
   "execution_count": null,
   "id": "0f875b7c-b015-4c60-9cfa-292ac1a51a7f",
   "metadata": {},
   "outputs": [],
   "source": []
  }
 ],
 "metadata": {
  "kernelspec": {
   "display_name": "Python 3 (ipykernel)",
   "language": "python",
   "name": "python3"
  },
  "language_info": {
   "codemirror_mode": {
    "name": "ipython",
    "version": 3
   },
   "file_extension": ".py",
   "mimetype": "text/x-python",
   "name": "python",
   "nbconvert_exporter": "python",
   "pygments_lexer": "ipython3",
   "version": "3.8.3"
  }
 },
 "nbformat": 4,
 "nbformat_minor": 5
}
